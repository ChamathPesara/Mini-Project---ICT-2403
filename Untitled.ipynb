{
 "cells": [
  {
   "cell_type": "code",
   "execution_count": null,
   "id": "279d9d9b-1be0-46c3-bdfa-5d9f03164296",
   "metadata": {},
   "outputs": [],
   "source": [
    "import cv2\n",
    "import numpy as np\n",
    "\n",
    "def count_leaves(image_path, min_contour_area=50):\n",
    "    # Load image\n",
    "    image = cv2.imread(image_path)\n",
    "    image = cv2.resize(image, (600, 600))  # Resize for consistency\n",
    "    \n",
    "    # Convert to HSV color space\n",
    "    hsv = cv2.cvtColor(image, cv2.COLOR_BGR2HSV)\n",
    "    \n",
    "    # Define green color range\n",
    "    lower_green = np.array([30, 10, 10])  \n",
    "    upper_green = np.array([110, 255, 255])\n",
    "    mask = cv2.inRange(hsv, lower_green, upper_green)\n",
    "\n",
    "    # Define a kernel for erosion and apply it\n",
    "    kernel = np.ones((5, 5), np.uint8)\n",
    "    eroded_mask = cv2.erode(mask, kernel, iterations=3)\n",
    "\n",
    "    # Apply morphological operations (closing and opening)\n",
    "    eroded_mask = cv2.morphologyEx(eroded_mask, cv2.MORPH_CLOSE, kernel)\n",
    "    eroded_mask = cv2.morphologyEx(eroded_mask, cv2.MORPH_OPEN, kernel)\n",
    "\n",
    "    # Find contours\n",
    "    contours, _ = cv2.findContours(eroded_mask, cv2.RETR_EXTERNAL, cv2.CHAIN_APPROX_SIMPLE)\n",
    "    \n",
    "    # Filter contours based on minimum area\n",
    "    valid_contours = [cnt for cnt in contours if cv2.contourArea(cnt) > min_contour_area]\n",
    "    \n",
    "    leaf_count = len(valid_contours)\n",
    "\n",
    "    # Draw contours\n",
    "    for cnt in valid_contours:\n",
    "        x, y, w, h = cv2.boundingRect(cnt)\n",
    "        cv2.rectangle(image, (x, y), (x + w, y + h), (0, 255, 0), 2)\n",
    "\n",
    "    cv2.putText(image, f'Leaves: {leaf_count}', (20, 50), cv2.FONT_HERSHEY_SIMPLEX, 1, (0, 0, 0), 2)\n",
    "\n",
    "    # Show images\n",
    "    cv2.imshow(\"Leaf Count\", image)\n",
    "    cv2.imshow(\"Eroded Mask\", eroded_mask)\n",
    "    cv2.waitKey(0)\n",
    "    cv2.destroyAllWindows()\n",
    "\n",
    "    print(f'Total Leaves Counted: {leaf_count}')\n",
    "    return leaf_count\n",
    "\n",
    "# Run the function with a minimum contour area\n",
    "image_path = \"Day (1).jpg\"  # Provide actual image path\n",
    "min_area = 50 # Minimum area for a valid contour\n",
    "count_leaves(image_path, min_contour_area=min_area)\n"
   ]
  }
 ],
 "metadata": {
  "kernelspec": {
   "display_name": "Python 3 (ipykernel)",
   "language": "python",
   "name": "python3"
  },
  "language_info": {
   "codemirror_mode": {
    "name": "ipython",
    "version": 3
   },
   "file_extension": ".py",
   "mimetype": "text/x-python",
   "name": "python",
   "nbconvert_exporter": "python",
   "pygments_lexer": "ipython3",
   "version": "3.12.7"
  }
 },
 "nbformat": 4,
 "nbformat_minor": 5
}
