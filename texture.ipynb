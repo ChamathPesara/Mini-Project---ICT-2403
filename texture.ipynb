{
 "cells": [
  {
   "cell_type": "code",
   "execution_count": 1,
   "id": "55ff3543-0640-41f1-b683-98177d5dbd4d",
   "metadata": {},
   "outputs": [
    {
     "name": "stdout",
     "output_type": "stream",
     "text": [
      "Leaf Texture Analysis:\n",
      "Mean Intensity: 69.14\n",
      "Standard Deviation of Intensity: 59.39\n",
      "Laplacian Variance: 37.70\n",
      "Homogeneity (Sobel Mean): 0.00\n",
      "Texture Status: Smooth Texture\n"
     ]
    }
   ],
   "source": [
    "import cv2\n",
    "import numpy as np\n",
    "\n",
    "def analyze_leaf_texture(image_path):\n",
    "    # Load the image\n",
    "    image = cv2.imread(image_path)\n",
    "    if image is None:\n",
    "        print(\"Error: Image not found!\")\n",
    "        return\n",
    "    \n",
    "    # Convert to grayscale\n",
    "    gray = cv2.cvtColor(image, cv2.COLOR_BGR2GRAY)\n",
    "    \n",
    "    # Apply Gaussian blur to reduce noise\n",
    "    blurred = cv2.GaussianBlur(gray, (5, 5), 0)\n",
    "    \n",
    "    # Compute texture descriptors\n",
    "    mean_intensity = np.mean(gray)\n",
    "    std_intensity = np.std(gray)\n",
    "    \n",
    "    # Compute Laplacian variance for smoothness\n",
    "    laplacian = cv2.Laplacian(gray, cv2.CV_64F)\n",
    "    laplacian_var = laplacian.var()\n",
    "    \n",
    "    # Compute simple homogeneity measure\n",
    "    homogeneity = np.mean(cv2.Sobel(gray, cv2.CV_64F, 1, 1, ksize=3))\n",
    "    \n",
    "    # Determine texture status based on smoothness\n",
    "    smoothness_threshold = 100  # Adjust based on dataset\n",
    "    homogeneity_threshold = 5  # Adjust based on dataset\n",
    "    \n",
    "    if laplacian_var < smoothness_threshold and homogeneity < homogeneity_threshold:\n",
    "        texture_status = \"Smooth Texture\"\n",
    "    else:\n",
    "        texture_status = \"Rough Texture\"\n",
    "    \n",
    "    print(f\"Leaf Texture Analysis:\")\n",
    "    print(f\"Mean Intensity: {mean_intensity:.2f}\")\n",
    "    print(f\"Standard Deviation of Intensity: {std_intensity:.2f}\")\n",
    "    print(f\"Laplacian Variance: {laplacian_var:.2f}\")\n",
    "    print(f\"Homogeneity (Sobel Mean): {homogeneity:.2f}\")\n",
    "    print(f\"Texture Status: {texture_status}\")\n",
    "    \n",
    "    # Display results\n",
    "    # cv2.imshow(\"Original Image\", image)\n",
    "    # cv2.imshow(\"Blurred Image\", blurred)\n",
    "    # cv2.imshow(\"Laplacian\", laplacian)\n",
    "    cv2.waitKey(0)\n",
    "    cv2.destroyAllWindows()\n",
    "\n",
    "# Run the analysis\n",
    "analyze_leaf_texture('Day (2).jpg')"
   ]
  }
 ],
 "metadata": {
  "kernelspec": {
   "display_name": "Python 3 (ipykernel)",
   "language": "python",
   "name": "python3"
  },
  "language_info": {
   "codemirror_mode": {
    "name": "ipython",
    "version": 3
   },
   "file_extension": ".py",
   "mimetype": "text/x-python",
   "name": "python",
   "nbconvert_exporter": "python",
   "pygments_lexer": "ipython3",
   "version": "3.12.7"
  }
 },
 "nbformat": 4,
 "nbformat_minor": 5
}
